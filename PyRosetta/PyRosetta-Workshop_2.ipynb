{
 "cells": [
  {
   "cell_type": "markdown",
   "metadata": {},
   "source": [
    "# PyRosetta ASDF\n",
    "This is an iPython notebook for me to mess around with PyRosetta. I'm going through the tutorials provided by the Gray Lab at http://www.pyrosetta.org/tutorials."
   ]
  },
  {
   "cell_type": "markdown",
   "metadata": {},
   "source": [
    "## PyRosetta Workshop #2\n",
    "Link: http://graylab.jhu.edu/pyrosetta/downloads/documentation/Workshop2_PyRosetta_Intro.pdf\n",
    "\n",
    "<b>Notes:</b><br>\n",
    "* ?[Class] or [Class]? will tell you all of the funcitons within a class\n",
    "* Create a .pymolrc file in your home directory containing [run {PathtoPyRosettaInstall}/PyMOLPyRosettaServer.py]"
   ]
  },
  {
   "cell_type": "code",
   "execution_count": 14,
   "metadata": {
    "collapsed": false
   },
   "outputs": [],
   "source": [
    "import sys\n",
    "sys.path.append('/home/james.lucas/.local/lib/python2.7/site-packages')\n",
    "sys.path.append('/usr/lib/python2.7/dist-packages')\n",
    "sys.path.append('/usr/local/lib/python2.7/dist-packages')\n",
    "sys.path.append('/usr/local/lib/python2.7/dist-packages/pyrosetta-4.0-py2.7.egg/rosetta.so')"
   ]
  },
  {
   "cell_type": "code",
   "execution_count": 6,
   "metadata": {
    "collapsed": false
   },
   "outputs": [],
   "source": [
    "import seaborn"
   ]
  },
  {
   "cell_type": "code",
   "execution_count": 15,
   "metadata": {
    "collapsed": false,
    "scrolled": true
   },
   "outputs": [
    {
     "ename": "ImportError",
     "evalue": "No module named rosetta",
     "output_type": "error",
     "traceback": [
      "\u001b[0;31m---------------------------------------------------------------------------\u001b[0m",
      "\u001b[0;31mImportError\u001b[0m                               Traceback (most recent call last)",
      "\u001b[0;32m<ipython-input-15-9e0e17fb748d>\u001b[0m in \u001b[0;36m<module>\u001b[0;34m()\u001b[0m\n\u001b[0;32m----> 1\u001b[0;31m \u001b[0;32mimport\u001b[0m \u001b[0mpyrosetta\u001b[0m\u001b[0;34m\u001b[0m\u001b[0m\n\u001b[0m\u001b[1;32m      2\u001b[0m \u001b[0;32mimport\u001b[0m \u001b[0mpyrosetta\u001b[0m\u001b[0;34m.\u001b[0m\u001b[0mtoolbox\u001b[0m \u001b[0;32mas\u001b[0m \u001b[0mtoolbox\u001b[0m\u001b[0;34m\u001b[0m\u001b[0m\n\u001b[1;32m      3\u001b[0m \u001b[0;34m\u001b[0m\u001b[0m\n\u001b[1;32m      4\u001b[0m \u001b[0;32mimport\u001b[0m \u001b[0mos\u001b[0m\u001b[0;34m\u001b[0m\u001b[0m\n\u001b[1;32m      5\u001b[0m \u001b[0;32mprint\u001b[0m \u001b[0mos\u001b[0m\u001b[0;34m.\u001b[0m\u001b[0mgetcwd\u001b[0m\u001b[0;34m(\u001b[0m\u001b[0;34m)\u001b[0m\u001b[0;34m\u001b[0m\u001b[0m\n",
      "\u001b[0;32m/usr/local/lib/python2.7/dist-packages/pyrosetta/__init__.py\u001b[0m in \u001b[0;36m<module>\u001b[0;34m()\u001b[0m\n\u001b[1;32m     17\u001b[0m \u001b[0;32mimport\u001b[0m \u001b[0mos\u001b[0m\u001b[0;34m,\u001b[0m \u001b[0msys\u001b[0m\u001b[0;34m,\u001b[0m \u001b[0mplatform\u001b[0m\u001b[0;34m,\u001b[0m \u001b[0mos\u001b[0m\u001b[0;34m.\u001b[0m\u001b[0mpath\u001b[0m\u001b[0;34m,\u001b[0m \u001b[0mjson\u001b[0m\u001b[0;34m\u001b[0m\u001b[0m\n\u001b[1;32m     18\u001b[0m \u001b[0;34m\u001b[0m\u001b[0m\n\u001b[0;32m---> 19\u001b[0;31m \u001b[0;32mimport\u001b[0m \u001b[0mrosetta\u001b[0m\u001b[0;34m\u001b[0m\u001b[0m\n\u001b[0m\u001b[1;32m     20\u001b[0m \u001b[0;34m\u001b[0m\u001b[0m\n\u001b[1;32m     21\u001b[0m \u001b[0;32mimport\u001b[0m \u001b[0mlogging\u001b[0m\u001b[0;34m\u001b[0m\u001b[0m\n",
      "\u001b[0;31mImportError\u001b[0m: No module named rosetta"
     ]
    }
   ],
   "source": [
    "import pyrosetta\n",
    "import pyrosetta.toolbox as toolbox\n",
    "\n",
    "import os\n",
    "print os.getcwd()\n",
    "\n",
    "pyrosetta.init(\"-ignore_unrecognized_res -ignore_zero_occupancy\")\n",
    "toolbox.cleanATOM('../PDB_REDO/1DAN_HLTU.pdb')\n",
    "pose = pyrosetta.pose_from_pdb(\"../PDB_REDO/1DAN_HLTU.clean.pdb\")\n",
    "pyobs = PyMOL_Observer()\n",
    "pyobs.add_observer(pose)"
   ]
  },
  {
   "cell_type": "code",
   "execution_count": null,
   "metadata": {
    "collapsed": false
   },
   "outputs": [],
   "source": [
    "# Rosetta numbering\n",
    "print pose\n",
    "print pose.sequence()\n",
    "print \"Protein has\", pose.total_residue(), \"residues.\"\n",
    "\n",
    "# PDB Numbering\n",
    "print 'Chain:', pose.pdb_info().chain(500)\n",
    "print 'Position:', pose.pdb_info().number(500)\n",
    "print 'Rosetta numbering of residue U100:', pose.pdb_info().pdb2pose('U', 100)\n",
    "\n",
    "toolbox.get_secstruct(pose)\n",
    "pose?"
   ]
  },
  {
   "cell_type": "code",
   "execution_count": null,
   "metadata": {
    "collapsed": false
   },
   "outputs": [],
   "source": [
    "# Dihedral Angles\n",
    "print 'Phi:', pose.phi(5)\n",
    "print 'Psi:', pose.psi(5)\n",
    "print 'X1:', pose.chi(1,5) #X1 of residue 5\n",
    "\n",
    "# Bond Lengths\n",
    "R5N = AtomID(1, 5)\n",
    "R5CA = AtomID(2, 5)\n",
    "R5C = AtomID(3, 5)\n",
    "\n",
    "print 'N - CA bond length:', pose.conformation().bond_length(R5N, R5CA)\n",
    "print 'CA - C bond length:', pose.conformation().bond_length(R5CA, R5C)"
   ]
  },
  {
   "cell_type": "code",
   "execution_count": null,
   "metadata": {
    "collapsed": false
   },
   "outputs": [],
   "source": [
    "# Relax... by Wilson\n",
    "sfxn = rosetta.get_fa_scorefxn()\n",
    "def relax_by_wilson(pose, protein_length):    \n",
    "    relax = rosetta.FastRelax(get_fa_scorefxn())\n",
    "    mm = rosetta.MoveMap()\n",
    "    mm.set_bb_true_range(1,protein_length)\n",
    "    mm.set_chi_true_range(1,protein_length)\n",
    "    relax.set_movemap(mm)\n",
    "    relax.apply(pose)\n",
    "\n",
    "# relax_by_wilson(pose, pose.total_residue())"
   ]
  },
  {
   "cell_type": "markdown",
   "metadata": {},
   "source": [
    "## Backrub in RosettaScripts\n",
    "Discussion on RosettaCommons forum talking about how BackrubProtocol was implemented in PyRosetta: https://www.rosettacommons.org/content/backrub-mover"
   ]
  },
  {
   "cell_type": "code",
   "execution_count": null,
   "metadata": {
    "collapsed": false
   },
   "outputs": [],
   "source": [
    "from rosetta.protocols import backrub\n",
    "\n",
    "br = backrub.BackrubProtocol()\n",
    "rosetta.atom_pair_constraint()"
   ]
  }
 ],
 "metadata": {
  "kernelspec": {
   "display_name": "Python 2",
   "language": "python",
   "name": "python2"
  },
  "language_info": {
   "codemirror_mode": {
    "name": "ipython",
    "version": 2
   },
   "file_extension": ".py",
   "mimetype": "text/x-python",
   "name": "python",
   "nbconvert_exporter": "python",
   "pygments_lexer": "ipython2",
   "version": "2.7.11+"
  }
 },
 "nbformat": 4,
 "nbformat_minor": 0
}
