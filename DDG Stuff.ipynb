{
 "cells": [
  {
   "cell_type": "code",
   "execution_count": null,
   "metadata": {
    "collapsed": false
   },
   "outputs": [],
   "source": [
    "import os\n",
    "\n",
    "id = 99\n",
    "pwd = os.getcwd()\n",
    "print pwd\n",
    "\n",
    "new_id = '12345678' + str(id)\n",
    "new_id = new_id[-4:]\n",
    "print new_id"
   ]
  },
  {
   "cell_type": "code",
   "execution_count": 421,
   "metadata": {
    "collapsed": false,
    "scrolled": true
   },
   "outputs": [
    {
     "ename": "AttributeError",
     "evalue": "'tuple' object has no attribute 'ResidueID'",
     "output_type": "error",
     "traceback": [
      "\u001b[0;31m---------------------------------------------------------------------------\u001b[0m",
      "\u001b[0;31mAttributeError\u001b[0m                            Traceback (most recent call last)",
      "\u001b[0;32m<ipython-input-421-104cfbfd0984>\u001b[0m in \u001b[0;36m<module>\u001b[0;34m()\u001b[0m\n\u001b[1;32m     72\u001b[0m \u001b[0mneighbors\u001b[0m \u001b[0;34m=\u001b[0m \u001b[0mneighbors_list\u001b[0m\u001b[0;34m(\u001b[0m\u001b[0;34m)\u001b[0m\u001b[0;34m\u001b[0m\u001b[0m\n\u001b[1;32m     73\u001b[0m \u001b[0mmutations\u001b[0m \u001b[0;34m=\u001b[0m \u001b[0mresfile_stuff\u001b[0m\u001b[0;34m(\u001b[0m\u001b[0;34m)\u001b[0m\u001b[0;34m\u001b[0m\u001b[0m\n\u001b[0;32m---> 74\u001b[0;31m \u001b[0mbash\u001b[0m\u001b[0;34m(\u001b[0m\u001b[0mjson\u001b[0m\u001b[0;34m,\u001b[0m \u001b[0mneighbors\u001b[0m\u001b[0;34m,\u001b[0m \u001b[0mmutations\u001b[0m\u001b[0;34m)\u001b[0m\u001b[0;34m\u001b[0m\u001b[0m\n\u001b[0m",
      "\u001b[0;32m<ipython-input-421-104cfbfd0984>\u001b[0m in \u001b[0;36mbash\u001b[0;34m(json, neighbors, mutations)\u001b[0m\n\u001b[1;32m     64\u001b[0m \u001b[0;34m\u001b[0m\u001b[0m\n\u001b[1;32m     65\u001b[0m         \u001b[0;31m#pivot_residues, target, new_res\u001b[0m\u001b[0;34m\u001b[0m\u001b[0;34m\u001b[0m\u001b[0m\n\u001b[0;32m---> 66\u001b[0;31m         \u001b[0mtarget\u001b[0m \u001b[0;34m=\u001b[0m \u001b[0mi\u001b[0m\u001b[0;34m.\u001b[0m\u001b[0mResidueID\u001b[0m\u001b[0;34m\u001b[0m\u001b[0m\n\u001b[0m\u001b[1;32m     67\u001b[0m         \u001b[0mnew_res\u001b[0m \u001b[0;34m=\u001b[0m \u001b[0mi\u001b[0m\u001b[0;34m.\u001b[0m\u001b[0mMutantAA\u001b[0m\u001b[0;34m\u001b[0m\u001b[0m\n\u001b[1;32m     68\u001b[0m         \u001b[0mpivot_residues\u001b[0m \u001b[0;34m=\u001b[0m \u001b[0mmath\u001b[0m\u001b[0;34m\u001b[0m\u001b[0m\n",
      "\u001b[0;31mAttributeError\u001b[0m: 'tuple' object has no attribute 'ResidueID'"
     ]
    }
   ],
   "source": [
    "#Submit script!!!\n",
    "import json\n",
    "import re\n",
    "import pandas as pd\n",
    "from finalize_JL import find_neighbors\n",
    "from finalize_JL import read_mutations_resfile\n",
    "\n",
    "#Parses dataset .json file and outputs chain to move and input PDB file directory\n",
    "def json_parser():\n",
    "#    For use on the cluster\n",
    "#    asdf = open(\"~/ddg-zemu-runs/160315-kyleb_james-backrub-rscript/data/blank_job_dict.json\")\n",
    "    asdf = open(\"/Users/jameslucas/Kortemme_Rotation/blank_job_dict.json\")\n",
    "    jsonfile = json.load(asdf)\n",
    "\n",
    "    chain = pd.DataFrame()\n",
    "    directory = pd.DataFrame()\n",
    "\n",
    "    for i in jsonfile:\n",
    "        chain = chain.append([jsonfile[i][\"%%chainstomove%%\"]])\n",
    "        directory = directory.append([jsonfile[i][\"input_file_list\"]])\n",
    "\n",
    "    chain.columns = ['Chain']\n",
    "    directory.columns = ['PDB File Path']\n",
    "    \n",
    "    result = pd.concat([chain, directory], axis=1, join_axes=[chain.index])\n",
    "    output = result.set_index('PDB File Path')\n",
    "\n",
    "    return output\n",
    "\n",
    "#Finds neighbors within 8A and adds position and Chain information to a pandas dataframe\n",
    "def neighbors_list():\n",
    "    neighbors = find_neighbors(\"/Users/jameslucas/Kortemme_Rotation/56287/\", \"/Users/jameslucas/Kortemme_Rotation/56287/1TM1_EI.pdb\", 8)\n",
    "    info = pd.DataFrame(columns=('Residue', 'Chain'))\n",
    "    hold = pd.DataFrame(columns=('Residue', 'Chain'))\n",
    "\n",
    "    for i in neighbors:\n",
    "        string_parse = re.sub(\"[(),']\",'', str(i))\n",
    "        for s in string_parse.split():\n",
    "            if s.isdigit():\n",
    "                hold.loc[0,'Residue'] = s\n",
    "            else:\n",
    "                hold.loc[0,'Chain'] = s\n",
    "                info = info.append(hold)\n",
    "            \n",
    "    info = info.set_index('Chain')\n",
    "    info = info.sort('Residue',ascending=True)\n",
    "    w8_list = info\n",
    "    return w8_list\n",
    "\n",
    "#Reads resfile and returns mutation position+chain and type\n",
    "def resfile_stuff():\n",
    "    resfile = read_mutations_resfile(\"/Users/jameslucas/Kortemme_Rotation/56287/\")\n",
    "    for i in resfile:\n",
    "        position = i[0]\n",
    "        chain = i[1]\n",
    "        mut_to = i[3]\n",
    "    return position, chain, mut_to\n",
    "    \n",
    "#Prints CMD input with PDBID, associated mutation, and pivot residues\n",
    "def bash(json, neighbors, mutations):\n",
    "    for pwd, chn in json.iterrows():\n",
    "        pdb_dir = pwd\n",
    "        chain = chn\n",
    "        \n",
    "        #pivot_residues, target, new_res\n",
    "        #target = \n",
    "        #new_res = \n",
    "        #pivot_residues = \n",
    "#        print \"~/rosetta_src_2016.08.58479_bundle/main/source/bin/rosetta_scripts.linuxgccrelease \\\n",
    "#-s ~/%s ~/DDG_Test.xml -ignore_unrecognized_res -out:path:pdb ~/%s -nstruct 100 -parser:script_vars \\\n",
    "#target=%s new_res=%s pivot_residues=%s\" %(pdb, pdb, target, new_res, pivot_resdiues)\n",
    "\n",
    "json = json_parser()\n",
    "neighbors = neighbors_list()\n",
    "mutations = resfile_stuff()\n",
    "bash(json, neighbors, mutations)\n"
   ]
  },
  {
   "cell_type": "code",
   "execution_count": 415,
   "metadata": {
    "collapsed": false
   },
   "outputs": [
    {
     "name": "stdout",
     "output_type": "stream",
     "text": [
      "['61', 'I', 'PIKAA', 'A']\n"
     ]
    }
   ],
   "source": [
    "#Submit script!!!\n",
    "import json\n",
    "import re\n",
    "import pandas as pd\n",
    "from finalize_JL import find_neighbors\n",
    "from finalize_JL import read_mutations_resfile\n",
    "\n",
    "#Reads resfile and returns mutation position and type\n",
    "def resfile_stuff():\n",
    "    resfile = read_mutations_resfile(\"/Users/jameslucas/Kortemme_Rotation/56287/\")\n",
    "    position = resfile[0]\n",
    "    print position\n",
    "    \n",
    "resfile_stuff()"
   ]
  },
  {
   "cell_type": "code",
   "execution_count": null,
   "metadata": {
    "collapsed": true
   },
   "outputs": [],
   "source": []
  },
  {
   "cell_type": "code",
   "execution_count": null,
   "metadata": {
    "collapsed": true
   },
   "outputs": [],
   "source": []
  },
  {
   "cell_type": "code",
   "execution_count": null,
   "metadata": {
    "collapsed": true
   },
   "outputs": [],
   "source": []
  },
  {
   "cell_type": "code",
   "execution_count": null,
   "metadata": {
    "collapsed": true
   },
   "outputs": [],
   "source": []
  },
  {
   "cell_type": "code",
   "execution_count": null,
   "metadata": {
    "collapsed": true
   },
   "outputs": [],
   "source": []
  },
  {
   "cell_type": "code",
   "execution_count": null,
   "metadata": {
    "collapsed": true
   },
   "outputs": [],
   "source": []
  }
 ],
 "metadata": {
  "kernelspec": {
   "display_name": "Python 2",
   "language": "python",
   "name": "python2"
  },
  "language_info": {
   "codemirror_mode": {
    "name": "ipython",
    "version": 2
   },
   "file_extension": ".py",
   "mimetype": "text/x-python",
   "name": "python",
   "nbconvert_exporter": "python",
   "pygments_lexer": "ipython2",
   "version": "2.7.10"
  }
 },
 "nbformat": 4,
 "nbformat_minor": 0
}
