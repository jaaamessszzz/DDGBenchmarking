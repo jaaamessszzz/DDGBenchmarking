{
 "cells": [
  {
   "cell_type": "code",
   "execution_count": null,
   "metadata": {
    "collapsed": false
   },
   "outputs": [],
   "source": [
    "import os\n",
    "\n",
    "id = 99\n",
    "pwd = os.getcwd()\n",
    "print pwd\n",
    "\n",
    "new_id = '12345678' + str(id)\n",
    "new_id = new_id[-4:]\n",
    "print new_id"
   ]
  },
  {
   "cell_type": "code",
   "execution_count": 55,
   "metadata": {
    "collapsed": false,
    "scrolled": false
   },
   "outputs": [
    {
     "name": "stdout",
     "output_type": "stream",
     "text": [
      "~/rosetta_src_2016.08.58479_bundle/main/source/bin/rosetta_scripts.linuxgccrelease -s ~/1TM1_EI.pdb ~/DDG_Test.xml -ignore_unrecognized_res -out:path:pdb ~/1TM1_EI.pdb -nstruct 100 -parser:script_vars target=61 new_res=A pivot_residues=155E,187E,189E,218E,220E,221E,59I,60I,61I,62I,63I\n"
     ]
    }
   ],
   "source": [
    "#Submit script!!!\n",
    "import json\n",
    "import re\n",
    "import pandas as pd\n",
    "from finalize_JL import find_neighbors\n",
    "from finalize_JL import read_mutations_resfile\n",
    "\n",
    "#Parses dataset .json file and outputs chain to move and input PDB file directory\n",
    "def json_parser():\n",
    "####asdf = open(\"~/ddg-zemu-runs/160315-kyleb_james-backrub-rscript/data/blank_job_dict.json\")\n",
    "    asdf = open(\"/Users/jameslucas/Kortemme_Rotation/blank_job_dict_copy.json\")\n",
    "    jsonfile = json.load(asdf)\n",
    "\n",
    "    chaintomove = pd.DataFrame()\n",
    "    directory = pd.DataFrame()\n",
    "    index = pd.DataFrame()\n",
    "    count = 0\n",
    "    \n",
    "    for i in jsonfile:\n",
    "        chaintomove = chaintomove.append([jsonfile[i][\"%%chainstomove%%\"]])\n",
    "        directory = directory.append([jsonfile[i][\"input_file_list\"]])\n",
    "        index = index.append([count])\n",
    "        count = count + 1\n",
    "        \n",
    "    chaintomove.columns = ['Chaintomove']\n",
    "    directory.columns = ['PDB File Path']\n",
    "    index.columns = ['Index']\n",
    "    \n",
    "    result = pd.concat([chaintomove, directory], axis=1, join_axes=[chaintomove.index])\n",
    "    result = pd.concat([index, result], axis=1)\n",
    "    output = result.set_index('Index')\n",
    "    return output\n",
    "\n",
    "#Finds neighbors within 8A and adds position and Chain information to a pandas dataframe\n",
    "def neighbors_list(pdb_filepath, pdb_file):\n",
    "    neighbors = find_neighbors(\"/Users/jameslucas/Kortemme_Rotation/\"+pdb_filepath, \"/Users/jameslucas/Kortemme_Rotation/\"+pdb_file, 8)\n",
    "    info = pd.DataFrame(columns=('Residue', 'Chain'))\n",
    "    hold = pd.DataFrame(columns=('Residue', 'Chain'))\n",
    "\n",
    "    for i in neighbors:\n",
    "        string_parse = re.sub(\"[(),']\",'', str(i))\n",
    "        for s in string_parse.split():\n",
    "            if s.isdigit():\n",
    "                hold.loc[0,'Residue'] = s\n",
    "            else:\n",
    "                hold.loc[0,'Chain'] = s\n",
    "                info = info.append(hold)\n",
    "            \n",
    "    info = info.set_index('Chain')\n",
    "    info = info.sort('Residue',ascending=True)\n",
    "    pivotlist = ''\n",
    "    for indx, info in info.iterrows():\n",
    "        pivotlist = pivotlist + ',' + info['Residue'] + indx\n",
    "    ####ADD... turn all data in info dataframe into comma delimited <resnum><chain> pairs\n",
    "    pivotlist = pivotlist[1:]\n",
    "    return pivotlist\n",
    "\n",
    "#Reads resfile and returns mutation position+chain and type\n",
    "def resfile_stuff(pdb_filepath):\n",
    "    resfile = read_mutations_resfile(\"/Users/jameslucas/Kortemme_Rotation/\"+pdb_filepath)\n",
    "    for i in resfile:\n",
    "        position = i[0]\n",
    "        chain = i[1]\n",
    "        mut_to = i[3]\n",
    "    return position, chain, mut_to\n",
    "    \n",
    "#Prints CMD input with PDBID, associated mutation, and pivot residues\n",
    "def bash(json):\n",
    "    for indx, chain_path in json.iterrows():\n",
    "        pdb_file = chain_path['PDB File Path']\n",
    "        chaintomove = chain_path['Chaintomove']\n",
    "        \n",
    "        #Removes PDB file from path, saves in variable data_dir\n",
    "        pdb_file_parse = re.sub(\"/\",' ', str(pdb_file))\n",
    "        data, filenum, pdbname = pdb_file_parse.split()\n",
    "        data_dir = data + \"/\" + filenum\n",
    "        \n",
    "        #Assigns function output to variables for bash input (pivot_residues, target, new_res)\n",
    "        target, chain, new_res = resfile_stuff(data_dir)\n",
    "        pivot_residues = neighbors_list(data_dir, pdb_file)\n",
    "        \n",
    "####All the variables and stuff for printing out the bash script\n",
    "        print \"~/rosetta_src_2016.08.58479_bundle/main/source/bin/rosetta_scripts.linuxgccrelease \\\n",
    "-s ~/%s ~/DDG_Test.xml -ignore_unrecognized_res -out:path:pdb ~/%s -nstruct 100 -parser:script_vars \\\n",
    "target=%s new_res=%s pivot_residues=%s\" %(pdbname, pdbname, target, new_res, pivot_residues)\n",
    "        \n",
    "json = json_parser()\n",
    "bash(json)"
   ]
  },
  {
   "cell_type": "code",
   "execution_count": null,
   "metadata": {
    "collapsed": false
   },
   "outputs": [],
   "source": []
  },
  {
   "cell_type": "code",
   "execution_count": null,
   "metadata": {
    "collapsed": true
   },
   "outputs": [],
   "source": []
  },
  {
   "cell_type": "code",
   "execution_count": null,
   "metadata": {
    "collapsed": true
   },
   "outputs": [],
   "source": []
  },
  {
   "cell_type": "code",
   "execution_count": null,
   "metadata": {
    "collapsed": true
   },
   "outputs": [],
   "source": []
  },
  {
   "cell_type": "code",
   "execution_count": null,
   "metadata": {
    "collapsed": true
   },
   "outputs": [],
   "source": []
  },
  {
   "cell_type": "code",
   "execution_count": null,
   "metadata": {
    "collapsed": true
   },
   "outputs": [],
   "source": []
  },
  {
   "cell_type": "code",
   "execution_count": null,
   "metadata": {
    "collapsed": true
   },
   "outputs": [],
   "source": []
  }
 ],
 "metadata": {
  "kernelspec": {
   "display_name": "Python 2",
   "language": "python",
   "name": "python2"
  },
  "language_info": {
   "codemirror_mode": {
    "name": "ipython",
    "version": 2
   },
   "file_extension": ".py",
   "mimetype": "text/x-python",
   "name": "python",
   "nbconvert_exporter": "python",
   "pygments_lexer": "ipython2",
   "version": "2.7.10"
  }
 },
 "nbformat": 4,
 "nbformat_minor": 0
}
