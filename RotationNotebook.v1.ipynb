{
 "cells": [
  {
   "cell_type": "markdown",
   "metadata": {},
   "source": [
    "# Rotation Notebook: Volume 1\n",
    "## Contents:\n",
    "* [April 4, 2016](#April-4,-2016) (full version coming soon, stuck on my Macbook..)\n",
    "* [April 7, 2016](#April-7,-2016)"
   ]
  },
  {
   "cell_type": "markdown",
   "metadata": {},
   "source": [
    "## April 4, 2016\n",
    "### Meeting with Tanja: \n",
    "<b>Suggestions:</b>\n",
    "* Look up minimization with constraints..\n",
    "* Parse my tag + minimize with constraint\n",
    "\n",
    "<b>Things to implement in the DDG RosettaScript Protocol:</b>\n",
    "* Repack with soft repulsive energy function (find soft version of talaris)\n",
    "* Add 1+/1- for all selected pivot resdiues in backrub mover\n",
    "* Figure out difference between backrub mover and protocol\n",
    "* Try less trials, more structures\n",
    "* Get backbone RMSD's and compare to WT structures\n",
    "* Make BackrunProtocol Mover for RosettaScripts\n",
    "* Minimize w/ constraints Mover vs. Application and get RMSD's\n",
    "* Add mute flag for MetropolisHastingsMover"
   ]
  },
  {
   "cell_type": "markdown",
   "metadata": {},
   "source": [
    "## April 7, 2016\n",
    "\n",
    "Talked with Kyle about the direction of my rotation so far and decided we should wait Colin's response before continuing with the DDG RosettaScript Protocol. The rationale is that my time will better spent working on something else instead of trying to implement the BackrubProtocol Mover in RosettaScripts on my own since Colin is going to help anyways.<br>\n",
    "\n",
    "<b>Other avenues to go down in the meantime:</b><br>\n",
    "\n",
    "* Testing different minimization methods on structures in the Zemu dataset\n",
    "    * The crappy (so I'm told) data from FirstZemuDataset_Workup where sereval DDG values blew up may be a result of the minimization method we used. The DDGmonomer app uses minimize_with_cst where I was using MinMover in RosettaScripts.\n",
    "    * Test minimize_with_cst app vs. MinMover in RosettaScripts on all structures in the Zemu dataset with two different minimization algorithms: lbfgs_armijo_nonmonotone (default) and dfpmin_armijo_nonmonotone.\n",
    "    * Compare output structure RMSDs\n",
    "<br><br>\n",
    "* Develop general method for correlate structural variation in protocol output (i.e. RMSD) with interesting factors (DDG scores, ensemble size, trial sizes, kT)\n",
    "    * How much backbone variation is required/useful?\n",
    "    * Input starting PDB, WT output PDBs, and mutant output PDBs\n",
    "    * All-vs-all RMSDs for any outputs (DDG WT, DDG mutants, minimization comparison structures)\n",
    "    * RMSD for 8A repack sphere (repacking) and overall structure\n",
    "<br><br>\n",
    "* Find the PDB structures of Zemu dataset mutants\n",
    "    * [PyPDB] \n",
    "    * Some psuedo code for what I had in mind to try out:<br>\n",
    "    `    \n",
    "    for subdir in directory(data):\n",
    "        for files in subdir:`\n",
    "            mutlist = []\n",
    "            if file == 'mutations.resfile':\n",
    "                mut_type = mutant residue type\n",
    "                mut_pos = mutant residue position\n",
    "                mutlist.append([mut_type, mut_pos])\n",
    "            if file ends in '.pdb':\n",
    "                structure = parser.get_structure('TEST', data + subdir + files)\n",
    "                pdbcode = take the first four letters of filename.pdb\n",
    "            \n",
    "            #Find related structures using PyPDB module make_query()\n",
    "            MSQuery = pypdb.make_query(pdbcode, querytype = 'ModifiedStructuresQuery')\n",
    "            \n",
    "            #Obtain PDB sequence, introduce mutations, and search against PDB\n",
    "            ppb=CaPPBuilder()\n",
    "            for pp in ppb.build_peptides(structure): \n",
    "                print pp.get_sequence()\n",
    "            seq = polypeptide.get_sequence()\n",
    "            search_PDB_for_sequence(seq)\n",
    "\n",
    "1. Set up and submit runs for minimize_with_cst.default.linuxgccrelease and RosettaScripts with all Zemu Structures using lbfgs_armijo_nonmonotone (default) and dfpmin_armijo_nonmonotone\n",
    "2. Work on RMSD calculator for relevant variables\n",
    "3. Download structures for Zemu dataset mutants if time permits\n",
    "    \n",
    "[PyPDB]: https://github.com/williamgilpin/pypdb\n"
   ]
  },
  {
   "cell_type": "code",
   "execution_count": null,
   "metadata": {
    "collapsed": true
   },
   "outputs": [],
   "source": []
  }
 ],
 "metadata": {
  "kernelspec": {
   "display_name": "Python 2",
   "language": "python",
   "name": "python2"
  },
  "language_info": {
   "codemirror_mode": {
    "name": "ipython",
    "version": 2
   },
   "file_extension": ".py",
   "mimetype": "text/x-python",
   "name": "python",
   "nbconvert_exporter": "python",
   "pygments_lexer": "ipython2",
   "version": "2.7.11"
  }
 },
 "nbformat": 4,
 "nbformat_minor": 0
}
