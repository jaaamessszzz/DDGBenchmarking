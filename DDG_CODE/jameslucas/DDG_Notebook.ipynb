{
 "cells": [
  {
   "cell_type": "markdown",
   "metadata": {},
   "source": [
    "#Table of Contents\n",
    "[April 4, 2016](#Meeting-with-Tanja:-April-4,-2016) - Met with Tanja, suggestions on improvements and things to try with DDG RosettaScript Protocol<br>\n"
   ]
  },
  {
   "cell_type": "markdown",
   "metadata": {},
   "source": [
    "#April 4, 2016\n",
    "##Meeting with Tanja:\n",
    "###Suggestions:\n",
    "* Look up minimization with constraints..\n",
    "* Parse my tag + minimize with constraints\n",
    "\n",
    "###To do:\n",
    "* Mutate step repack with soft repulsive (find soft version of talaris)\n",
    "* Add 1+/1- for pivot resdiues in backrub mover\n",
    "* Figure out difference between backrub mover and protocol\n",
    "* Less trials, more structures\n",
    "* Get backbone RMSD's and compare to WT structures\n",
    "* Make BackrunProtocol Mover for RosettaScripts\n",
    "* Minimize w/ constraints Mover vs. Application and get RMSD's\n",
    "\n",
    "###Minimize_with_cst\n",
    "* Harmonic All Ca - All Ca constraints\n",
    "* Increases fa_rep in steps [(0.1, 0.33, 1) * fa_rep] and minimizes at each step\n",
    "\n",
    "###RosettaScript Things to Test in the Future:\n",
    "* AddConstraintsToCurrentConformationMover\n",
    "    * min_seq_sep - try different minimum sequence separation between pairs of constrained residues"
   ]
  },
  {
   "cell_type": "code",
   "execution_count": null,
   "metadata": {
    "collapsed": true
   },
   "outputs": [],
   "source": []
  }
 ],
 "metadata": {
  "kernelspec": {
   "display_name": "Python 2",
   "language": "python",
   "name": "python2"
  },
  "language_info": {
   "codemirror_mode": {
    "name": "ipython",
    "version": 2
   },
   "file_extension": ".py",
   "mimetype": "text/x-python",
   "name": "python",
   "nbconvert_exporter": "python",
   "pygments_lexer": "ipython2",
   "version": "2.7.10"
  }
 },
 "nbformat": 4,
 "nbformat_minor": 0
}
