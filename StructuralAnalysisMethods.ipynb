{
 "cells": [
  {
   "cell_type": "markdown",
   "metadata": {},
   "source": [
    "# Structural Analysis of RosettaScript PDB Output\n",
    "The goal of this notebook is to develop a general method for correlating structural variation in RosettaScript output (i.e. RMSD) with interesting factors (DDG scores, ensemble size, trial sizes, kT).<br>\n",
    "<br>\n",
    "<b>Things to think about:</b>\n",
    "* How much backbone variation is required/useful?\n",
    "* Input starting PDB, WT output PDBs, and mutant output PDBs\n",
    "* All-vs-all RMSDs for any outputs (DDG WT, DDG mutants, minimization comparison structures)\n",
    "* RMSD for 8A repack sphere (repacking) and overall structure"
   ]
  },
  {
   "cell_type": "code",
   "execution_count": null,
   "metadata": {
    "collapsed": true
   },
   "outputs": [],
   "source": []
  }
 ],
 "metadata": {
  "kernelspec": {
   "display_name": "Python 2",
   "language": "python",
   "name": "python2"
  },
  "language_info": {
   "codemirror_mode": {
    "name": "ipython",
    "version": 2
   },
   "file_extension": ".py",
   "mimetype": "text/x-python",
   "name": "python",
   "nbconvert_exporter": "python",
   "pygments_lexer": "ipython2",
   "version": "2.7.11"
  }
 },
 "nbformat": 4,
 "nbformat_minor": 0
}
